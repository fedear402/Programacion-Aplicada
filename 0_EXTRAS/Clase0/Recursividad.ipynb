{
 "cells": [
  {
   "cell_type": "markdown",
   "id": "c660a7b6",
   "metadata": {},
   "source": [
    "# Semana 1. Recursividad o Recursividad\n",
    "\n",
    "Concepto \n",
    "Recursividad es una propiedad por la cual hacemos que una funcion se llame a si mismo.\n",
    "En relacion, una funcion primero es un bloque de codigo que nosotros definimos, para \n",
    "evitar repetir una serie de pasos cada vez que necesitemos volver a hacer esa tarea.\n",
    "Recursividad nos permite entonces repetir esa misma tarea hasta que satisfaga su condicion."
   ]
  },
  {
   "cell_type": "markdown",
   "id": "f281bfd4",
   "metadata": {},
   "source": [
    "# Temario:\n",
    "\n",
    "Debemos hacer una descripcion del problema en cuestion, describir el algoritmo por lo que es\n",
    "una secuencia de pasos a seguir, como opera y cual seria su objetivo. \n",
    "El codigo es y siempre sera una implementacion de un problema que instruimos a la maquina para que lo resuelva por nosotros. Debemos ser practicos y resolverlo de forma que nosotros entendamos el problema y no nos desviemos de el.\n",
    "\n",
    "\n",
    "* ~1. Euclides MCD (Maximo Comun Divisor)\n",
    "* ~2. Secuencia de Fibonacci.\n",
    "* ~3. Torres de Hanoi.\n",
    "* ~4. Elementos Tabla Periodica (fuerza bruta)."
   ]
  },
  {
   "cell_type": "markdown",
   "id": "3ca5adfd",
   "metadata": {},
   "source": [
    "# 1 Euclides MCD (Maximo Comun Divisor)\n",
    "\n",
    "Se busca responde a esta pregunta ¿cual es el maximo comun divisor ENTERO entre dos numeros?\n",
    "\n",
    "tenemos dos variables (a, b) que buscamos encontrar el maximo entero divisor entre ambos\n",
    "\n",
    "Ejemplo mcd(2366,273)\n",
    "En primera instancia es:\n",
    "(1) mcd(a,b) => mcd(2366,273)\n",
    "\n",
    "Calculamos el cociente entero entre ambos (q) = a // b | que seria 2366 // 273 que da 8\n",
    "\n",
    "Hacemos la resta (r) => 2366 - (273 * 8) = 182 \n",
    "\n",
    "Resta (r) = 182\n",
    "\n",
    "REPETIR | RECURSIVIDAD\n",
    "Con los datos obtenidos el siguiente paso va a ser lo mismo mcd(a,b) pero mcd(b,r) como nuevos datos\n",
    "\n",
    "Esto se repite hasta que b = 0 o mcd(a,b) = a \n",
    "\n",
    "Veamos"
   ]
  },
  {
   "cell_type": "code",
   "execution_count": 1,
   "id": "05176bd0",
   "metadata": {},
   "outputs": [],
   "source": [
    "# definimos la funcion\n",
    "\n",
    "def mcd(a, b):\n",
    "    # cociente entero entre a // b\n",
    "    q = a // b \n",
    "    # remanente \n",
    "    r = a - (b * q) \n",
    "    print(f\"\\nVariables de esta ronda son:\\n\\n\\\n",
    "          a y b:\\t ({a}, {b})\\n\\\n",
    "          q: {q},\\t\\t {a} // {b}\\n\\\n",
    "          r: {r},\\t {b}*{q}\")\n",
    "    # Condicional caso que b = 0 terminamos\n",
    "    if r == 0:\n",
    "        print(\"\\n\\nMCD es:\\t({},{})\\n\\n\".format(b,r))\n",
    "    # caso contrario repetimos o hacemos recursividad\n",
    "    else:\n",
    "        mcd(b,r)"
   ]
  },
  {
   "cell_type": "code",
   "execution_count": 2,
   "id": "1cb47147",
   "metadata": {},
   "outputs": [
    {
     "name": "stdout",
     "output_type": "stream",
     "text": [
      "\n",
      "Variables de esta ronda son:\n",
      "\n",
      "          a y b:\t (2366, 273)\n",
      "          q: 8,\t\t 2366 // 273\n",
      "          r: 182,\t 273*8\n",
      "\n",
      "Variables de esta ronda son:\n",
      "\n",
      "          a y b:\t (273, 182)\n",
      "          q: 1,\t\t 273 // 182\n",
      "          r: 91,\t 182*1\n",
      "\n",
      "Variables de esta ronda son:\n",
      "\n",
      "          a y b:\t (182, 91)\n",
      "          q: 2,\t\t 182 // 91\n",
      "          r: 0,\t 91*2\n",
      "\n",
      "\n",
      "MCD es:\t(91,0)\n",
      "\n",
      "\n"
     ]
    }
   ],
   "source": [
    "# la llamamos \n",
    "mcd(2366,273)"
   ]
  },
  {
   "cell_type": "markdown",
   "id": "3a57966c",
   "metadata": {},
   "source": [
    "## Observamos Que cada vez que se imprime una instancia del mensaje es que la funcion se llama otra vez\n",
    "## el ultimo mensaje corresponde a la situacion de if que b es 0"
   ]
  },
  {
   "cell_type": "code",
   "execution_count": null,
   "id": "80ef476b",
   "metadata": {},
   "outputs": [],
   "source": [
    "# Otra forma \n",
    "def euclides(a,b):\n",
    "    if b == 0:\n",
    "         print(\"\\n\\nEuclides 0 es:\\t({},{})\".format(a,b))\n",
    "    else:\n",
    "        print(f\"Euclides = ({a},{b})\")\n",
    "        euclides(b,a%b)"
   ]
  },
  {
   "cell_type": "code",
   "execution_count": null,
   "id": "4e3fd755",
   "metadata": {},
   "outputs": [
    {
     "name": "stdout",
     "output_type": "stream",
     "text": [
      "Euclides = (2366,273)\n",
      "Euclides = (273,182)\n",
      "Euclides = (182,91)\n",
      "\n",
      "\n",
      "Euclides 0 es:\t(91,0)\n"
     ]
    }
   ],
   "source": [
    "# la llamamos\n",
    "euclides(2366,273)"
   ]
  },
  {
   "cell_type": "markdown",
   "id": "e5febcdc",
   "metadata": {},
   "source": [
    "# Vemos que dan lo mismo. La diferencia radica en nosotros, la legibilidad, capacidad de tener detalle de lo que hacemos y poder comunicarlo\n",
    "# Nunca, pero nunca escribimos para que sea la maquina la unica que entienda el codigo"
   ]
  },
  {
   "cell_type": "markdown",
   "id": "0b5448bc",
   "metadata": {},
   "source": [
    "# 2. Secuencia Fibonacci\n",
    "\n",
    "### Cualquier numero es Fibonacci si es la suma de los dos numeros antecesores.\n",
    "### O sea, Fibonacci(n) = F(n-1) + F(n-2)"
   ]
  },
  {
   "cell_type": "code",
   "execution_count": null,
   "id": "eff15cbe",
   "metadata": {},
   "outputs": [
    {
     "name": "stdout",
     "output_type": "stream",
     "text": [
      "Fibonacci of 0 is 0\n",
      "\n",
      "Fibonacci of 5 is 5\n",
      "\n",
      "Fibonacci of 10 is 55\n",
      "\n",
      "Fibonacci of 15 is 610\n",
      "\n",
      "Fibonacci of 20 is 6765\n",
      "\n",
      "Fibonacci of 25 is 75025\n",
      "\n",
      "Fibonacci of 30 is 832040\n",
      "\n"
     ]
    },
    {
     "data": {
      "text/plain": [
       "[None, None, None, None, None, None, None]"
      ]
     },
     "execution_count": 1,
     "metadata": {},
     "output_type": "execute_result"
    }
   ],
   "source": [
    "def fibonacci(n):\n",
    "     if n in {0, 1}:  # Base case\n",
    "         return n\n",
    "     return fibonacci(n - 1) + fibonacci(n - 2)  # Recursive case\n",
    "\n",
    "\n",
    "[print(\"Fibonacci of {} is {}\\n\".format(n,fibonacci(n))) for n in range(0,30+1,5)]"
   ]
  },
  {
   "cell_type": "markdown",
   "id": "29bf6ea1",
   "metadata": {},
   "source": [
    "# Que pasa cuando n aumenta?"
   ]
  },
  {
   "cell_type": "code",
   "execution_count": null,
   "id": "df2d9545",
   "metadata": {},
   "outputs": [
    {
     "name": "stdout",
     "output_type": "stream",
     "text": [
      "fibonacci of 0 time to calculate is  2.3275992134585977e-05\n",
      "fibonacci of 5 time to calculate is  0.0003295110072940588\n",
      "fibonacci of 10 time to calculate is  0.004033791003166698\n",
      "fibonacci of 15 time to calculate is  0.027787728002294898\n",
      "fibonacci of 20 time to calculate is  0.17362213900196366\n",
      "fibonacci of 25 time to calculate is  1.653343276004307\n",
      "fibonacci of 30 time to calculate is  18.36334074700426\n"
     ]
    }
   ],
   "source": [
    "# CPU consumption\n",
    "from timeit import timeit \n",
    "\n",
    "for i in range(0,30+1,5):\n",
    "    print(f\"fibonacci of {i} time to calculate is \",timeit(f'fibonacci({str(i)})', globals=globals(), number=100))\n"
   ]
  },
  {
   "cell_type": "code",
   "execution_count": null,
   "id": "9377efb7",
   "metadata": {},
   "outputs": [
    {
     "name": "stdout",
     "output_type": "stream",
     "text": [
      "Fibonacci of 0 is 1\n",
      "Fibonacci of 30 is 3524577\n",
      "Fibonacci of 60 is 6557470319841\n",
      "Fibonacci of 90 is 12200160415121876737\n",
      "Fibonacci of 120 is 22698374052006863956975681\n",
      "Fibonacci of 150 is 42230279526998466217810220532897\n",
      "Fibonacci of 180 is 78569350599398894027251472817058687521\n",
      "Fibonacci of 210 is 146178119651438213260386312206974243796773057\n",
      "Fibonacci of 240 is 271964099255182923543922814194423915162591622175361\n",
      "Fibonacci of 270 is 505988662735923140767969869749836918999964413630219877217\n",
      "Fibonacci of 300 is 941390895042587567453271223806288165311401367715034229502159201\n",
      "Fibonacci of 330 is 1751455877444438095408940282208383549115781784912085789506677971125377\n",
      "Fibonacci of 360 is 3258580157072680796737099989600679905139007491100054385837880317693321359041\n",
      "Fibonacci of 390 is 6062581865071657021090336618356676821869104775627553202957692569518282323883797537\n",
      "Fibonacci of 420 is 11279421434798829164267456416982623413744225016940372471505281055817787346703464230494881\n",
      "Fibonacci of 450 is 20985341020594289480596202471862246559405946478745659997715004840583924030397583511583383173697\n",
      "Fibonacci of 480 is 39043184998122354968635474677330498542864661988399598709411830703425204209650825540787157763668286721\n",
      "Fibonacci of 510 is 72639767602615659833415769076743441675530755653534070653184546540063470576806357692953027861477736726533857\n",
      "Fibonacci of 540 is 135146142345092186703752249180774384275764289333345966720120142869985595050503649670814071604682819066479121454561\n",
      "Fibonacci of 570 is 251439127540686683410355036436498964627214165334435973635196551498669275073731875734673432234676222479684794771243158017\n",
      "Fibonacci of 600 is 467801993911057346969253632393329698441821925792111695787002567703451068793258021745557947676079828499403918483241873884718401\n",
      "Fibonacci of 630 is 870344674067282932794061757877114762255176310327745011622992267233500110036220293666493338659716495331249315307754855083999574326177\n",
      "Fibonacci of 660 is 1619274525412363959903575255059887007313837685313707116708761755507605485154464332857130265567979662183122608802947888455587798160820798241\n",
      "Fibonacci of 690 is 3012657015979781977998614671955615595575503271088526286912090083586765997651677082241988924535028532193715530937335691260536432447526773913318337\n",
      "Fibonacci of 720 is 5605042352914733135977054235984175329081972797846347142062056069216302203343442302671901445786714383823775378215668056310042563607303080014020120414081\n",
      "Fibonacci of 750 is 10428170087510142513003057669962087616734396610851957661841082666377879726632480951238815619001048548750831415087300271897784233814999629327476879216245414497\n",
      "Fibonacci of 780 is 19401589591466840082804248055713147032523127250367763553142164271488650419571061242614570539217540921408037631723268205887068103388029137800904775748052141062285921\n",
      "Fibonacci of 810 is 36096618631734444870289627756645195570045251115437988958483038385114250045644742420035290778121917633578810149197126219101391131945323650586492733840372035462884587894657\n",
      "Fibonacci of 840 is 67157686771085269622692645021900068819622336462737624454029408185875149817150463332571247360871656942898891584039546898753976729996123693165480529186743586458877797867773133761\n",
      "Fibonacci of 870 is 124946741922194505343848686233084744611013072548680379570357367882045861446123688479276495829986960708171380076688830115888779071985226747755044869940291576385728853141933295230038817\n",
      "Fibonacci of 900 is 232463163452691875116448707769659008534278699381855126493428004605356531720604355018499811475366509176270564632976516161366802138971616417014769346741007116753309016226401734111028987677601\n",
      "\n",
      "\n",
      " Fibonacci of 900 took\t 0.0907747089950135\n"
     ]
    }
   ],
   "source": [
    "# Buscamos Optimizar. En Funciones las variables internas solo viven en medida que llamamos la funcion\n",
    "# y se utilizan el cache utilizando los datos conocidos para no tener que repetir el proceso\n",
    "\n",
    "def fib1(n):\n",
    "    if n == 0: return [1]\n",
    "    if n == 1: return [1, 1]\n",
    "    seq = fib1(n - 1)\n",
    "    return seq + [seq[-1] + seq[-2]]\n",
    "\n",
    "[print(\"Fibonacci of {} is {}\".format(n,sum(fib1(n)))) for n in range(0,900+1,30)]\n",
    "print(\"\\n\\n Fibonacci of 900 took\\t\",timeit(f'fib1(900)', globals=globals(), number=100))"
   ]
  },
  {
   "cell_type": "markdown",
   "id": "36ffa76d",
   "metadata": {},
   "source": [
    "# 3. Torres Hanoi. \n",
    "\n",
    "### 3 pilares y n discos, con la meta de moverlos de un punto de partida a su destino\n",
    "### Se mueve un disco a la vez\n",
    "### Un disco mayor no puede estar por encima de un disco menor, o sea\n",
    "### el orden de los pilares sus discos es decreciente\n",
    "### el juego termina cuando todos los discos estan en el ultimo pilar"
   ]
  },
  {
   "cell_type": "code",
   "execution_count": null,
   "id": "1fd5c5cb",
   "metadata": {},
   "outputs": [
    {
     "name": "stdout",
     "output_type": "stream",
     "text": [
      "Provide the Quantity of Disc to run Hanoi Case...\n",
      " 3\n"
     ]
    },
    {
     "name": "stdout",
     "output_type": "stream",
     "text": [
      "Move Disc 1, from: A, to: C\n",
      "Move Disc 2, from: A, to: B\n",
      "Move Disc 1, from: C, to: B\n",
      "Move Disc 3, from: A, to: C\n",
      "Move Disc 1, from: B, to: A\n",
      "Move Disc 2, from: B, to: C\n",
      "Move Disc 1, from: A, to: C\n"
     ]
    }
   ],
   "source": [
    "def hanoi(n,f,h,t):\n",
    "    \"\"\"\n",
    "    n = cantidad de discos\n",
    "    f = from pilar de partida\n",
    "    h = helper pilar auxiliar\n",
    "    t = target pilar de destino\n",
    "    este comentario dentro de la funcion se llama documentacion\n",
    "    son notas auto explicativas para recordar que hacemos\n",
    "    \"\"\"\n",
    "    if n==0:\n",
    "         pass\n",
    "    else:\n",
    "      hanoi(n-1,f,t,h)\n",
    "      print(f\"Move Disc {n}, from: {f}, to: {t}\") \n",
    "      hanoi(n-1,h,f,t)\n",
    " \n",
    "n = int(input(\"Provide the Quantity of Disc to run Hanoi Case...\\n\"))\n",
    "\n",
    "hanoi(n,f=\"A\",h=\"B\",t=\"C\")\n"
   ]
  },
  {
   "cell_type": "code",
   "execution_count": null,
   "id": "cfe41331",
   "metadata": {},
   "outputs": [
    {
     "name": "stdout",
     "output_type": "stream",
     "text": [
      "\n",
      "So far there had been 1 for 1 discs\n",
      "\n",
      "{'a': [], 'b': [], 'c': [1]}\n",
      "\n",
      "So far there had been 3 for 2 discs\n",
      "\n",
      "{'a': [], 'b': [], 'c': [2, 1]}\n",
      "\n",
      "So far there had been 7 for 3 discs\n",
      "\n",
      "{'a': [], 'b': [], 'c': [3, 2, 1]}\n",
      "\n",
      "So far there had been 15 for 4 discs\n",
      "\n",
      "{'a': [], 'b': [], 'c': [4, 3, 2, 1]}\n",
      "\n",
      "So far there had been 31 for 5 discs\n",
      "\n",
      "{'a': [], 'b': [], 'c': [5, 4, 3, 2, 1]}\n",
      "\n",
      "So far there had been 63 for 6 discs\n",
      "\n",
      "{'a': [], 'b': [], 'c': [6, 5, 4, 3, 2, 1]}\n",
      "\n",
      "So far there had been 127 for 7 discs\n",
      "\n",
      "{'a': [], 'b': [], 'c': [7, 6, 5, 4, 3, 2, 1]}\n",
      "\n",
      "So far there had been 255 for 8 discs\n",
      "\n",
      "{'a': [], 'b': [], 'c': [8, 7, 6, 5, 4, 3, 2, 1]}\n",
      "\n",
      "So far there had been 511 for 9 discs\n",
      "\n",
      "{'a': [], 'b': [], 'c': [9, 8, 7, 6, 5, 4, 3, 2, 1]}\n",
      "\n",
      "So far there had been 1023 for 10 discs\n",
      "\n",
      "{'a': [], 'b': [], 'c': [10, 9, 8, 7, 6, 5, 4, 3, 2, 1]}\n",
      "\n",
      "So far there had been 2047 for 11 discs\n",
      "\n",
      "{'a': [], 'b': [], 'c': [11, 10, 9, 8, 7, 6, 5, 4, 3, 2, 1]}\n",
      "\n",
      "So far there had been 4095 for 12 discs\n",
      "\n",
      "{'a': [], 'b': [], 'c': [12, 11, 10, 9, 8, 7, 6, 5, 4, 3, 2, 1]}\n",
      "\n",
      "So far there had been 8191 for 13 discs\n",
      "\n",
      "{'a': [], 'b': [], 'c': [13, 12, 11, 10, 9, 8, 7, 6, 5, 4, 3, 2, 1]}\n",
      "\n",
      "So far there had been 16383 for 14 discs\n",
      "\n",
      "{'a': [], 'b': [], 'c': [14, 13, 12, 11, 10, 9, 8, 7, 6, 5, 4, 3, 2, 1]}\n",
      "\n",
      "So far there had been 32767 for 15 discs\n",
      "\n",
      "{'a': [], 'b': [], 'c': [15, 14, 13, 12, 11, 10, 9, 8, 7, 6, 5, 4, 3, 2, 1]}\n",
      "\n",
      "So far there had been 65535 for 16 discs\n",
      "\n",
      "{'a': [], 'b': [], 'c': [16, 15, 14, 13, 12, 11, 10, 9, 8, 7, 6, 5, 4, 3, 2, 1]}\n",
      "\n",
      "So far there had been 131071 for 17 discs\n",
      "\n",
      "{'a': [], 'b': [], 'c': [17, 16, 15, 14, 13, 12, 11, 10, 9, 8, 7, 6, 5, 4, 3, 2, 1]}\n",
      "\n",
      "So far there had been 262143 for 18 discs\n",
      "\n",
      "{'a': [], 'b': [], 'c': [18, 17, 16, 15, 14, 13, 12, 11, 10, 9, 8, 7, 6, 5, 4, 3, 2, 1]}\n",
      "\n",
      "So far there had been 524287 for 19 discs\n",
      "\n",
      "{'a': [], 'b': [], 'c': [19, 18, 17, 16, 15, 14, 13, 12, 11, 10, 9, 8, 7, 6, 5, 4, 3, 2, 1]}\n",
      "\n",
      "So far there had been 1048575 for 20 discs\n",
      "\n",
      "{'a': [], 'b': [], 'c': [20, 19, 18, 17, 16, 15, 14, 13, 12, 11, 10, 9, 8, 7, 6, 5, 4, 3, 2, 1]}\n",
      "\n",
      "So far there had been 2097151 for 21 discs\n",
      "\n",
      "{'a': [], 'b': [], 'c': [21, 20, 19, 18, 17, 16, 15, 14, 13, 12, 11, 10, 9, 8, 7, 6, 5, 4, 3, 2, 1]}\n",
      "\n",
      "So far there had been 4194303 for 22 discs\n",
      "\n",
      "{'a': [], 'b': [], 'c': [22, 21, 20, 19, 18, 17, 16, 15, 14, 13, 12, 11, 10, 9, 8, 7, 6, 5, 4, 3, 2, 1]}\n",
      "\n",
      "So far there had been 8388607 for 23 discs\n",
      "\n",
      "{'a': [], 'b': [], 'c': [23, 22, 21, 20, 19, 18, 17, 16, 15, 14, 13, 12, 11, 10, 9, 8, 7, 6, 5, 4, 3, 2, 1]}\n",
      "\n",
      "So far there had been 16777215 for 24 discs\n",
      "\n",
      "{'a': [], 'b': [], 'c': [24, 23, 22, 21, 20, 19, 18, 17, 16, 15, 14, 13, 12, 11, 10, 9, 8, 7, 6, 5, 4, 3, 2, 1]}\n"
     ]
    }
   ],
   "source": [
    "import time \n",
    "\n",
    "def hanoi(n,source,target,helper):\n",
    "    # con global podemos hacer que una variable interna tenga scope global.\n",
    "    global count\n",
    "    if n > 0:\n",
    "        hanoi(n-1,source,helper,target)\n",
    "        target.append(source.pop())\n",
    "        count = count + 1\n",
    "        hanoi(n-1,helper,target,source)\n",
    "\n",
    "# Notar que hago multiples llamados y que cambio el orden de los pilares cuando lo hago\n",
    "        \n",
    "\n",
    "num_moves = []\n",
    "for i in range(1,25):\n",
    "    a = list(range(i,0,-1))\n",
    "    b = []\n",
    "    c = []\n",
    "    count = 0\n",
    "    hanoi(i,a,c,b)\n",
    "    num_moves.append(count)\n",
    "    print(f\"\\nSo far there had been {count} moves for {i} discs\\n\")\n",
    "    print({\"a\":a,\"b\":b,\"c\":c})\n",
    "    time.sleep(1)"
   ]
  },
  {
   "cell_type": "markdown",
   "id": "2b820d79",
   "metadata": {},
   "source": [
    "# 4. Cadena Elementos de Tabla Peiodica\n",
    "\n",
    "### Generar una lista compuesta por elementos de la tabla periodica como resultado de la combinacion\n",
    "### mas larga resultado de todas las posibles combinacion\n",
    "\n",
    "\n",
    "# regla Ultima letra del elemento sera la inicial del siguiente elemento"
   ]
  },
  {
   "cell_type": "code",
   "execution_count": null,
   "id": "5252370b",
   "metadata": {},
   "outputs": [
    {
     "name": "stdout",
     "output_type": "stream",
     "text": [
      "Ingrese elemento inicial:  Oxygen\n"
     ]
    },
    {
     "name": "stdout",
     "output_type": "stream",
     "text": [
      "11\n",
      "['Oxygen', 'Nihonium', 'Mercury', 'Ytterbium', 'Moscovium', 'Meitnerium', 'Molybdenum', 'Magnesium', 'Mendelevium', 'Manganese', 'Einsteinium']\n",
      "12\n",
      "['Oxygen', 'Nitrogen', 'Nihonium', 'Mercury', 'Ytterbium', 'Moscovium', 'Meitnerium', 'Molybdenum', 'Magnesium', 'Mendelevium', 'Manganese', 'Einsteinium']\n",
      "13\n",
      "['Oxygen', 'Nitrogen', 'Nickel', 'Lanthanum', 'Mercury', 'Ytterbium', 'Moscovium', 'Meitnerium', 'Molybdenum', 'Magnesium', 'Mendelevium', 'Manganese', 'Einsteinium']\n",
      "14\n",
      "['Oxygen', 'Nitrogen', 'Nickel', 'Lead', 'Dubnium', 'Mercury', 'Ytterbium', 'Moscovium', 'Meitnerium', 'Molybdenum', 'Magnesium', 'Mendelevium', 'Manganese', 'Einsteinium']\n",
      "15\n",
      "['Oxygen', 'Nitrogen', 'Neon', 'Nickel', 'Lead', 'Dubnium', 'Mercury', 'Ytterbium', 'Moscovium', 'Meitnerium', 'Molybdenum', 'Magnesium', 'Mendelevium', 'Manganese', 'Einsteinium']\n",
      "['Oxygen', 'Nitrogen', 'Neon', 'Nickel', 'Lead', 'Dubnium', 'Mercury', 'Ytterbium', 'Moscovium', 'Meitnerium', 'Molybdenum', 'Magnesium', 'Mendelevium', 'Manganese', 'Einsteinium']\n"
     ]
    }
   ],
   "source": [
    "elementos = set(['Actinium', 'Aluminum', 'Americium', 'Antimony', 'Argon', 'Arsenic', 'Astatine', \n",
    "              'Barium', 'Berkelium', 'Beryllium', 'Bismuth', 'Bohrium', 'Boron', 'Bromine', \n",
    "              'Cadmium', 'Calcium', 'Californium', 'Carbon', 'Cerium', 'Cesium', 'Chlorine', \n",
    "              'Chromium', 'Cobalt', 'Copernicium', 'Copper', 'Curium', 'Darmstadtium', 'Dubnium', \n",
    "              'Dysprosium', 'Einsteinium', 'Erbium', 'Europium', 'Fermium', 'Flerovium', 'Fluorine', \n",
    "              'Francium', 'Gadolinium', 'Gallium', 'Germanium', 'Gold', 'Hafnium', 'Hassium', \n",
    "              'Helium', 'Holmium', 'Hydrogen', 'Indium', 'Iodine', 'Iridium', 'Iron', 'Krypton', \n",
    "              'Lanthanum', 'Lawrencium', 'Lead', 'Lithium', 'Livermorium', 'Lutetium', 'Magnesium', \n",
    "              'Manganese', 'Meitnerium', 'Mendelevium', 'Mercury', 'Molybdenum', 'Moscovium', 'Neodymium', \n",
    "              'Neon', 'Neptunium', 'Nickel', 'Nihonium', 'Niobium', 'Nitrogen', 'Nobelium', 'Oganesson', \n",
    "              'Osmium', 'Oxygen', 'Palladium', 'Phosphorus', 'Platinum', 'Plutonium', 'Polonium', 'Potassium', \n",
    "              'Praseodymium', 'Promethium', 'Protactinium', 'Radium', 'Radon', 'Rhenium', 'Rhodium', 'Roentgenium', \n",
    "              'Rubidium', 'Ruthenium', 'Rutherfordium', 'Samarium', 'Scandium', 'Seaborgium', 'Selenium', \n",
    "              'Silicon', 'Silver', 'Sodium', 'Strontium', 'Sulfur', 'Tantalum', 'Technetium', 'Tellurium', \n",
    "              'Tennessine', 'Terbium', 'Thallium', 'Thorium', 'Thulium', 'Tin', 'Titanium', 'Tungsten', \n",
    "              'Uranium', 'Vanadium', 'Xenon', 'Ytterbium', 'Yttrium', 'Zinc', 'Zirconium'])\n",
    " \n",
    "\n",
    "def lalista(lista,remaining,best):\n",
    "    # lambda es una funcion anonima o corta, de un solo comando\n",
    "    # en este caso solicitamos todos los elementos que comiencen con\n",
    "    # la ultima letra de la cadena que tenemos en el momento, de forma iterativa\n",
    "    candidates = list(filter(lambda x:x[0]==lista[-1][-1].upper(),remaining))\n",
    "    # No hay mas candidatos\n",
    "    if len(candidates)==0:     \n",
    "       if len(lista)>len(best):\n",
    "          best=lista\n",
    "          print(len(best))\n",
    "          print(best)          \n",
    "    # Aplicar fuerza bruta        \n",
    "    else:\n",
    "        for j in candidates:\n",
    "            newlist = lista + [j]\n",
    "            best = lalista(newlist,             # nuevo set\n",
    "                           remaining-set([j]),  # set descartando las combinaciones que ya tenemos para no repetirse\n",
    "                           best)                # pedimos el mas largo, osea el condicional if de exito \n",
    "            \n",
    "    return best\n",
    "\n",
    "\n",
    "inicial = input('Ingrese elemento inicial: ')\n",
    "\n",
    "\n",
    "lista = [inicial]\n",
    "best = lalista(lista,elementos-set(lista),lista)\n",
    "print(best)"
   ]
  },
  {
   "cell_type": "code",
   "execution_count": null,
   "id": "3c06127c",
   "metadata": {},
   "outputs": [
    {
     "name": "stdout",
     "output_type": "stream",
     "text": [
      "Element chosen OXYGEN\n",
      "Now find new element startswith n\n",
      "\n",
      "Element chosen NITROGEN\n",
      "Now find new element startswith n\n",
      "\n",
      "Element chosen NEON\n",
      "Now find new element startswith n\n",
      "\n",
      "Element chosen NICKEL\n",
      "Now find new element startswith l\n",
      "\n",
      "Element chosen LITHIUM\n",
      "Now find new element startswith m\n",
      "\n",
      "Element chosen MAGNESIUM\n",
      "Now find new element startswith m\n",
      "\n",
      "Element chosen MANGANESE\n",
      "Now find new element startswith e\n",
      "\n",
      "Element chosen EUROPIUM\n",
      "Now find new element startswith m\n",
      "\n",
      "Element chosen MOLYBDENUM\n",
      "Now find new element startswith m\n",
      "\n",
      "Element chosen MERCURY\n",
      "Now find new element startswith y\n",
      "\n",
      "Element chosen YTTRIUM\n",
      "Now find new element startswith m\n",
      "\n",
      "Element chosen MENDELEVIUM\n",
      "Now find new element startswith m\n",
      "\n",
      "Element chosen MEITNERIUM\n",
      "Now find new element startswith m\n",
      "\n",
      "Element chosen MOSCOVIUM\n",
      "Now find new element startswith m\n",
      "\n"
     ]
    },
    {
     "ename": "IndexError",
     "evalue": "list index out of range",
     "output_type": "error",
     "traceback": [
      "Traceback \u001b[0;36m(most recent call last)\u001b[0m:\n",
      "  File \u001b[1;32m\"/tmp/ipykernel_90972/814158043.py\"\u001b[0m, line \u001b[1;32m23\u001b[0m, in \u001b[1;35m<module>\u001b[0m\n    table('oxygen')\n",
      "  File \u001b[1;32m\"/tmp/ipykernel_90972/814158043.py\"\u001b[0m, line \u001b[1;32m20\u001b[0m, in \u001b[1;35mtable\u001b[0m\n    table(chosen)\n",
      "  File \u001b[1;32m\"/tmp/ipykernel_90972/814158043.py\"\u001b[0m, line \u001b[1;32m20\u001b[0m, in \u001b[1;35mtable\u001b[0m\n    table(chosen)\n",
      "  File \u001b[1;32m\"/tmp/ipykernel_90972/814158043.py\"\u001b[0m, line \u001b[1;32m20\u001b[0m, in \u001b[1;35mtable\u001b[0m\n    table(chosen)\n",
      "  File \u001b[1;32m\"/tmp/ipykernel_90972/814158043.py\"\u001b[0m, line \u001b[1;32m20\u001b[0m, in \u001b[1;35mtable\u001b[0m\n    table(chosen)\n",
      "  File \u001b[1;32m\"/tmp/ipykernel_90972/814158043.py\"\u001b[0m, line \u001b[1;32m20\u001b[0m, in \u001b[1;35mtable\u001b[0m\n    table(chosen)\n",
      "  File \u001b[1;32m\"/tmp/ipykernel_90972/814158043.py\"\u001b[0m, line \u001b[1;32m20\u001b[0m, in \u001b[1;35mtable\u001b[0m\n    table(chosen)\n",
      "  File \u001b[1;32m\"/tmp/ipykernel_90972/814158043.py\"\u001b[0m, line \u001b[1;32m20\u001b[0m, in \u001b[1;35mtable\u001b[0m\n    table(chosen)\n",
      "  File \u001b[1;32m\"/tmp/ipykernel_90972/814158043.py\"\u001b[0m, line \u001b[1;32m20\u001b[0m, in \u001b[1;35mtable\u001b[0m\n    table(chosen)\n",
      "  File \u001b[1;32m\"/tmp/ipykernel_90972/814158043.py\"\u001b[0m, line \u001b[1;32m20\u001b[0m, in \u001b[1;35mtable\u001b[0m\n    table(chosen)\n",
      "  File \u001b[1;32m\"/tmp/ipykernel_90972/814158043.py\"\u001b[0m, line \u001b[1;32m20\u001b[0m, in \u001b[1;35mtable\u001b[0m\n    table(chosen)\n",
      "  File \u001b[1;32m\"/tmp/ipykernel_90972/814158043.py\"\u001b[0m, line \u001b[1;32m20\u001b[0m, in \u001b[1;35mtable\u001b[0m\n    table(chosen)\n",
      "  File \u001b[1;32m\"/tmp/ipykernel_90972/814158043.py\"\u001b[0m, line \u001b[1;32m20\u001b[0m, in \u001b[1;35mtable\u001b[0m\n    table(chosen)\n",
      "  File \u001b[1;32m\"/tmp/ipykernel_90972/814158043.py\"\u001b[0m, line \u001b[1;32m20\u001b[0m, in \u001b[1;35mtable\u001b[0m\n    table(chosen)\n",
      "\u001b[0;36m  File \u001b[0;32m\"/tmp/ipykernel_90972/814158043.py\"\u001b[0;36m, line \u001b[0;32m19\u001b[0;36m, in \u001b[0;35mtable\u001b[0;36m\u001b[0m\n\u001b[0;31m    chosen = list(filter(lambda x: x.startswith(chosen[-1]), lista))[0]\u001b[0m\n",
      "\u001b[0;31mIndexError\u001b[0m\u001b[0;31m:\u001b[0m list index out of range\n"
     ]
    }
   ],
   "source": [
    "# Otra forma, sin fuerza bruta\n",
    "import pandas as pd \n",
    "\n",
    "\n",
    "elements = pd.read_json('https://raw.githubusercontent.com/Bowserinator/Periodic-Table-JSON/master/PeriodicTableJSON.json')\n",
    "\n",
    "\n",
    "lista = []\n",
    "\n",
    "for i in range(len(elements)):\n",
    "     lista.append((elements['elements'].to_list()[i]['name']).lower())\n",
    "\n",
    "backup = lista.copy() \n",
    "\n",
    "\n",
    "def table(chosen):\n",
    "    print(f\"Element chosen {chosen.upper()}\\nNow find new element startswith {chosen[-1]}\\n\")\n",
    "    lista.remove(f'{chosen}')\n",
    "    chosen = list(filter(lambda x: x.startswith(chosen[-1]), lista))[0]\n",
    "    table(chosen)\n",
    "       \n",
    "\n",
    "table('oxygen')    \n"
   ]
  },
  {
   "cell_type": "markdown",
   "id": "47fad814",
   "metadata": {},
   "source": [
    "# Demostrar Lambda"
   ]
  },
  {
   "cell_type": "code",
   "execution_count": null,
   "id": "408e9bcb",
   "metadata": {},
   "outputs": [
    {
     "data": {
      "text/plain": [
       "['oxygen', 'osmium', 'oganesson']"
      ]
     },
     "execution_count": 21,
     "metadata": {},
     "output_type": "execute_result"
    }
   ],
   "source": [
    "list(filter(lambda x: x.startswith('o'), backup))"
   ]
  },
  {
   "cell_type": "code",
   "execution_count": null,
   "id": "b06579d9",
   "metadata": {},
   "outputs": [
    {
     "data": {
      "text/plain": [
       "['oxygen', 'osmium', 'oganesson']"
      ]
     },
     "execution_count": 26,
     "metadata": {},
     "output_type": "execute_result"
    }
   ],
   "source": [
    "# o mas rebuscado\n",
    "\n",
    "lista = []\n",
    "\n",
    "for i in range(len(backup)):\n",
    "    if backup[i].startswith('o'):\n",
    "        lista.append(backup[i])\n",
    "    \n",
    "lista"
   ]
  },
  {
   "cell_type": "markdown",
   "id": "234713b9",
   "metadata": {},
   "source": [
    "# NPV"
   ]
  },
  {
   "cell_type": "code",
   "execution_count": null,
   "id": "b90f5d97",
   "metadata": {},
   "outputs": [
    {
     "name": "stdout",
     "output_type": "stream",
     "text": [
      "The present value of investment was 160.93\n",
      "The Present Value at yaer 0 is 160.92687075549983\n",
      "The Present Value at yaer 1 is 164.95004252438733\n",
      "The Present Value at yaer 2 is 169.073793587497\n",
      "The Present Value at yaer 3 is 173.3006384271844\n",
      "The Present Value at yaer 4 is 177.63315438786398\n",
      "The Present Value at yaer 5 is 182.07398324756056\n",
      "The Present Value at yaer 6 is 186.62583282874957\n",
      "The Present Value at yaer 7 is 191.2914786494683\n",
      "The Present Value at yaer 8 is 196.07376561570496\n",
      "The Present Value at yaer 9 is 200.97560975609758\n",
      "The Present Value at yaer 10 is 206.0\n"
     ]
    },
    {
     "data": {
      "text/plain": [
       "[None, None, None, None, None, None, None, None, None, None, None]"
      ]
     },
     "execution_count": 27,
     "metadata": {},
     "output_type": "execute_result"
    }
   ],
   "source": [
    "fv = 206\n",
    "rate = 0.025\n",
    "periods = 10\n",
    "\n",
    "pv = fv / (1 + rate) ** periods \n",
    "\n",
    "print(\"The present value of investment was {:.2f}\".format(pv))\n",
    "\n",
    "[print(f\"The Present Value at yaer {i} is {pv*(1+rate)**i}\") for i in range(10+1)]\n"
   ]
  },
  {
   "cell_type": "code",
   "execution_count": null,
   "id": "83e922c5",
   "metadata": {},
   "outputs": [],
   "source": []
  }
 ],
 "metadata": {
  "kernelspec": {
   "display_name": "Python 3 (Spyder)",
   "language": "python3",
   "name": "python3"
  },
  "language_info": {
   "codemirror_mode": {
    "name": "ipython",
    "version": 3
   },
   "file_extension": ".py",
   "mimetype": "text/x-python",
   "name": "python",
   "nbconvert_exporter": "python",
   "pygments_lexer": "ipython3",
   "version": "3.11.2"
  }
 },
 "nbformat": 4,
 "nbformat_minor": 5
}
